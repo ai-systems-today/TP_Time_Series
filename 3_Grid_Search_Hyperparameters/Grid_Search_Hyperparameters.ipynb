{
 "cells": [
  {
   "cell_type": "markdown",
   "metadata": {},
   "source": [
    "# Tune "
   ]
  },
  {
   "cell_type": "markdown",
   "metadata": {},
   "source": [
    "## Batch Size and Number of Epochs"
   ]
  },
  {
   "cell_type": "code",
   "execution_count": 6,
   "metadata": {},
   "outputs": [
    {
     "name": "stdout",
     "output_type": "stream",
     "text": [
      "WARNING:tensorflow:From C:\\Users\\Kyrie\\Anaconda3\\lib\\site-packages\\tensorflow\\python\\framework\\op_def_library.py:263: colocate_with (from tensorflow.python.framework.ops) is deprecated and will be removed in a future version.\n",
      "Instructions for updating:\n",
      "Colocations handled automatically by placer.\n",
      "WARNING:tensorflow:From C:\\Users\\Kyrie\\Anaconda3\\lib\\site-packages\\tensorflow\\python\\ops\\math_ops.py:3066: to_int32 (from tensorflow.python.ops.math_ops) is deprecated and will be removed in a future version.\n",
      "Instructions for updating:\n",
      "Use tf.cast instead.\n",
      "Best: 0.682292 using {'batch_size': 20, 'epochs': 100}\n",
      "0.605469 (0.046329) with: {'batch_size': 10, 'epochs': 10}\n",
      "0.661458 (0.046694) with: {'batch_size': 10, 'epochs': 50}\n",
      "0.580729 (0.171233) with: {'batch_size': 10, 'epochs': 100}\n",
      "0.589844 (0.030758) with: {'batch_size': 20, 'epochs': 10}\n",
      "0.578125 (0.145146) with: {'batch_size': 20, 'epochs': 50}\n",
      "0.682292 (0.020752) with: {'batch_size': 20, 'epochs': 100}\n",
      "0.626302 (0.041504) with: {'batch_size': 40, 'epochs': 10}\n",
      "0.666667 (0.021710) with: {'batch_size': 40, 'epochs': 50}\n",
      "0.673177 (0.013279) with: {'batch_size': 40, 'epochs': 100}\n",
      "0.600260 (0.071697) with: {'batch_size': 60, 'epochs': 10}\n",
      "0.648438 (0.017758) with: {'batch_size': 60, 'epochs': 50}\n",
      "0.669271 (0.014382) with: {'batch_size': 60, 'epochs': 100}\n",
      "0.445312 (0.087405) with: {'batch_size': 80, 'epochs': 10}\n",
      "0.627604 (0.036272) with: {'batch_size': 80, 'epochs': 50}\n",
      "0.675781 (0.024080) with: {'batch_size': 80, 'epochs': 100}\n",
      "0.522135 (0.142862) with: {'batch_size': 100, 'epochs': 10}\n",
      "0.412760 (0.117028) with: {'batch_size': 100, 'epochs': 50}\n",
      "0.510417 (0.136675) with: {'batch_size': 100, 'epochs': 100}\n"
     ]
    }
   ],
   "source": [
    "# Use scikit-learn to grid search the batch size and epochs\n",
    "import numpy\n",
    "from sklearn.model_selection import GridSearchCV\n",
    "from keras.models import Sequential\n",
    "from keras.layers import Dense\n",
    "from keras.wrappers.scikit_learn import KerasClassifier\n",
    "# Function to create model, required for KerasClassifier\n",
    "def create_model():\n",
    "\t# create model\n",
    "\tmodel = Sequential()\n",
    "\tmodel.add(Dense(12, input_dim=8, activation='relu'))\n",
    "\tmodel.add(Dense(1, activation='sigmoid'))\n",
    "\t# Compile model\n",
    "\tmodel.compile(loss='binary_crossentropy', optimizer='adam', metrics=['accuracy'])\n",
    "\treturn model\n",
    "# fix random seed for reproducibility\n",
    "seed = 7\n",
    "numpy.random.seed(seed)\n",
    "# load dataset\n",
    "dataset = numpy.loadtxt(\"pima-indians-diabetes.txt\", delimiter=\",\")\n",
    "# split into input (X) and output (Y) variables\n",
    "X = dataset[:,0:8]\n",
    "Y = dataset[:,8]\n",
    "# create model\n",
    "model = KerasClassifier(build_fn=create_model, verbose=0)\n",
    "# define the grid search parameters\n",
    "batch_size = [10, 20, 40, 60, 80, 100]\n",
    "epochs = [10, 50, 100]\n",
    "param_grid = dict(batch_size=batch_size, epochs=epochs)\n",
    "grid = GridSearchCV(estimator=model, param_grid=param_grid, n_jobs=-1, cv=3)\n",
    "grid_result = grid.fit(X, Y)\n",
    "# summarize results\n",
    "print(\"Best: %f using %s\" % (grid_result.best_score_, grid_result.best_params_))\n",
    "means = grid_result.cv_results_['mean_test_score']\n",
    "stds = grid_result.cv_results_['std_test_score']\n",
    "params = grid_result.cv_results_['params']\n",
    "for mean, stdev, param in zip(means, stds, params):\n",
    "    print(\"%f (%f) with: %r\" % (mean, stdev, param))"
   ]
  },
  {
   "cell_type": "markdown",
   "metadata": {},
   "source": [
    "## Training Optimization Algorithm"
   ]
  },
  {
   "cell_type": "code",
   "execution_count": 8,
   "metadata": {},
   "outputs": [
    {
     "name": "stdout",
     "output_type": "stream",
     "text": [
      "Best: 0.673177 using {'optimizer': 'Adadelta'}\n",
      "0.649740 (0.026557) with: {'optimizer': 'SGD'}\n",
      "0.591146 (0.147348) with: {'optimizer': 'RMSprop'}\n",
      "0.649740 (0.026557) with: {'optimizer': 'Adagrad'}\n",
      "0.673177 (0.009207) with: {'optimizer': 'Adadelta'}\n",
      "0.471354 (0.156586) with: {'optimizer': 'Adam'}\n",
      "0.658854 (0.029635) with: {'optimizer': 'Adamax'}\n",
      "0.477865 (0.128939) with: {'optimizer': 'Nadam'}\n"
     ]
    }
   ],
   "source": [
    "# Use scikit-learn to grid search the batch size and epochs\n",
    "import numpy\n",
    "from sklearn.model_selection import GridSearchCV\n",
    "from keras.models import Sequential\n",
    "from keras.layers import Dense\n",
    "from keras.wrappers.scikit_learn import KerasClassifier\n",
    "# Function to create model, required for KerasClassifier\n",
    "def create_model(optimizer='adam'):\n",
    "\t# create model\n",
    "\tmodel = Sequential()\n",
    "\tmodel.add(Dense(12, input_dim=8, activation='relu'))\n",
    "\tmodel.add(Dense(1, activation='sigmoid'))\n",
    "\t# Compile model\n",
    "\tmodel.compile(loss='binary_crossentropy', optimizer=optimizer, metrics=['accuracy'])\n",
    "\treturn model\n",
    "# fix random seed for reproducibility\n",
    "seed = 7\n",
    "numpy.random.seed(seed)\n",
    "# load dataset\n",
    "dataset = numpy.loadtxt(\"pima-indians-diabetes.txt\", delimiter=\",\")\n",
    "# split into input (X) and output (Y) variables\n",
    "X = dataset[:,0:8]\n",
    "Y = dataset[:,8]\n",
    "# create model\n",
    "model = KerasClassifier(build_fn=create_model, epochs=100, batch_size=10, verbose=0)\n",
    "# define the grid search parameters\n",
    "optimizer = ['SGD', 'RMSprop', 'Adagrad', 'Adadelta', 'Adam', 'Adamax', 'Nadam']\n",
    "param_grid = dict(optimizer=optimizer)\n",
    "grid = GridSearchCV(estimator=model, param_grid=param_grid, n_jobs=-1, cv=3)\n",
    "grid_result = grid.fit(X, Y)\n",
    "# summarize results\n",
    "print(\"Best: %f using %s\" % (grid_result.best_score_, grid_result.best_params_))\n",
    "means = grid_result.cv_results_['mean_test_score']\n",
    "stds = grid_result.cv_results_['std_test_score']\n",
    "params = grid_result.cv_results_['params']\n",
    "for mean, stdev, param in zip(means, stds, params):\n",
    "    print(\"%f (%f) with: %r\" % (mean, stdev, param))"
   ]
  },
  {
   "cell_type": "markdown",
   "metadata": {},
   "source": [
    "## Learning Rate and Momentum"
   ]
  },
  {
   "cell_type": "code",
   "execution_count": 9,
   "metadata": {},
   "outputs": [
    {
     "name": "stdout",
     "output_type": "stream",
     "text": [
      "Best: 0.680990 using {'learn_rate': 0.001, 'momentum': 0.4}\n",
      "0.671875 (0.009568) with: {'learn_rate': 0.001, 'momentum': 0.0}\n",
      "0.640625 (0.055335) with: {'learn_rate': 0.001, 'momentum': 0.2}\n",
      "0.680990 (0.021236) with: {'learn_rate': 0.001, 'momentum': 0.4}\n",
      "0.670573 (0.038051) with: {'learn_rate': 0.001, 'momentum': 0.6}\n",
      "0.673177 (0.009744) with: {'learn_rate': 0.001, 'momentum': 0.8}\n",
      "0.651042 (0.024774) with: {'learn_rate': 0.001, 'momentum': 0.9}\n",
      "0.649740 (0.023510) with: {'learn_rate': 0.01, 'momentum': 0.0}\n",
      "0.533854 (0.149269) with: {'learn_rate': 0.01, 'momentum': 0.2}\n",
      "0.651042 (0.024774) with: {'learn_rate': 0.01, 'momentum': 0.4}\n",
      "0.533854 (0.149269) with: {'learn_rate': 0.01, 'momentum': 0.6}\n",
      "0.572917 (0.134575) with: {'learn_rate': 0.01, 'momentum': 0.8}\n",
      "0.649740 (0.026557) with: {'learn_rate': 0.01, 'momentum': 0.9}\n",
      "0.572917 (0.134575) with: {'learn_rate': 0.1, 'momentum': 0.0}\n",
      "0.544271 (0.146518) with: {'learn_rate': 0.1, 'momentum': 0.2}\n",
      "0.466146 (0.149269) with: {'learn_rate': 0.1, 'momentum': 0.4}\n",
      "0.455729 (0.146518) with: {'learn_rate': 0.1, 'momentum': 0.6}\n",
      "0.455729 (0.146518) with: {'learn_rate': 0.1, 'momentum': 0.8}\n",
      "0.544271 (0.146518) with: {'learn_rate': 0.1, 'momentum': 0.9}\n",
      "0.545573 (0.147176) with: {'learn_rate': 0.2, 'momentum': 0.0}\n",
      "0.466146 (0.149269) with: {'learn_rate': 0.2, 'momentum': 0.2}\n",
      "0.427083 (0.134575) with: {'learn_rate': 0.2, 'momentum': 0.4}\n",
      "0.533854 (0.149269) with: {'learn_rate': 0.2, 'momentum': 0.6}\n",
      "0.572917 (0.134575) with: {'learn_rate': 0.2, 'momentum': 0.8}\n",
      "0.651042 (0.024774) with: {'learn_rate': 0.2, 'momentum': 0.9}\n",
      "0.531250 (0.147854) with: {'learn_rate': 0.3, 'momentum': 0.0}\n",
      "0.533854 (0.149269) with: {'learn_rate': 0.3, 'momentum': 0.2}\n",
      "0.533854 (0.149269) with: {'learn_rate': 0.3, 'momentum': 0.4}\n",
      "0.455729 (0.146518) with: {'learn_rate': 0.3, 'momentum': 0.6}\n",
      "0.466146 (0.149269) with: {'learn_rate': 0.3, 'momentum': 0.8}\n",
      "0.466146 (0.149269) with: {'learn_rate': 0.3, 'momentum': 0.9}\n"
     ]
    }
   ],
   "source": [
    "# Use scikit-learn to grid search the learning rate and momentum\n",
    "import numpy\n",
    "from sklearn.model_selection import GridSearchCV\n",
    "from keras.models import Sequential\n",
    "from keras.layers import Dense\n",
    "from keras.wrappers.scikit_learn import KerasClassifier\n",
    "from keras.optimizers import SGD\n",
    "# Function to create model, required for KerasClassifier\n",
    "def create_model(learn_rate=0.01, momentum=0):\n",
    "\t# create model\n",
    "\tmodel = Sequential()\n",
    "\tmodel.add(Dense(12, input_dim=8, activation='relu'))\n",
    "\tmodel.add(Dense(1, activation='sigmoid'))\n",
    "\t# Compile model\n",
    "\toptimizer = SGD(lr=learn_rate, momentum=momentum)\n",
    "\tmodel.compile(loss='binary_crossentropy', optimizer=optimizer, metrics=['accuracy'])\n",
    "\treturn model\n",
    "# fix random seed for reproducibility\n",
    "seed = 7\n",
    "numpy.random.seed(seed)\n",
    "# load dataset\n",
    "dataset = numpy.loadtxt(\"pima-indians-diabetes.txt\", delimiter=\",\")\n",
    "# split into input (X) and output (Y) variables\n",
    "X = dataset[:,0:8]\n",
    "Y = dataset[:,8]\n",
    "# create model\n",
    "model = KerasClassifier(build_fn=create_model, epochs=100, batch_size=10, verbose=0)\n",
    "# define the grid search parameters\n",
    "learn_rate = [0.001, 0.01, 0.1, 0.2, 0.3]\n",
    "momentum = [0.0, 0.2, 0.4, 0.6, 0.8, 0.9]\n",
    "param_grid = dict(learn_rate=learn_rate, momentum=momentum)\n",
    "grid = GridSearchCV(estimator=model, param_grid=param_grid, n_jobs=-1, cv=3)\n",
    "grid_result = grid.fit(X, Y)\n",
    "# summarize results\n",
    "print(\"Best: %f using %s\" % (grid_result.best_score_, grid_result.best_params_))\n",
    "means = grid_result.cv_results_['mean_test_score']\n",
    "stds = grid_result.cv_results_['std_test_score']\n",
    "params = grid_result.cv_results_['params']\n",
    "for mean, stdev, param in zip(means, stds, params):\n",
    "    print(\"%f (%f) with: %r\" % (mean, stdev, param))"
   ]
  },
  {
   "cell_type": "markdown",
   "metadata": {},
   "source": [
    "## Network Weight Initialization"
   ]
  },
  {
   "cell_type": "code",
   "execution_count": 10,
   "metadata": {},
   "outputs": [
    {
     "name": "stderr",
     "output_type": "stream",
     "text": [
      "C:\\Users\\Kyrie\\Anaconda3\\lib\\site-packages\\joblib\\externals\\loky\\process_executor.py:706: UserWarning: A worker stopped while some jobs were given to the executor. This can be caused by a too short worker timeout or by a memory leak.\n",
      "  \"timeout or by a memory leak.\", UserWarning\n"
     ]
    },
    {
     "name": "stdout",
     "output_type": "stream",
     "text": [
      "Best: 0.714844 using {'init_mode': 'glorot_normal'}\n",
      "0.705729 (0.028940) with: {'init_mode': 'uniform'}\n",
      "0.592448 (0.148928) with: {'init_mode': 'lecun_uniform'}\n",
      "0.710937 (0.020915) with: {'init_mode': 'normal'}\n",
      "0.651042 (0.024774) with: {'init_mode': 'zero'}\n",
      "0.714844 (0.022097) with: {'init_mode': 'glorot_normal'}\n",
      "0.690104 (0.023939) with: {'init_mode': 'glorot_uniform'}\n",
      "0.563802 (0.127989) with: {'init_mode': 'he_normal'}\n",
      "0.677083 (0.047343) with: {'init_mode': 'he_uniform'}\n"
     ]
    }
   ],
   "source": [
    "# Use scikit-learn to grid search the weight initialization\n",
    "import numpy\n",
    "from sklearn.model_selection import GridSearchCV\n",
    "from keras.models import Sequential\n",
    "from keras.layers import Dense\n",
    "from keras.wrappers.scikit_learn import KerasClassifier\n",
    "# Function to create model, required for KerasClassifier\n",
    "def create_model(init_mode='uniform'):\n",
    "\t# create model\n",
    "\tmodel = Sequential()\n",
    "\tmodel.add(Dense(12, input_dim=8, kernel_initializer=init_mode, activation='relu'))\n",
    "\tmodel.add(Dense(1, kernel_initializer=init_mode, activation='sigmoid'))\n",
    "\t# Compile model\n",
    "\tmodel.compile(loss='binary_crossentropy', optimizer='adam', metrics=['accuracy'])\n",
    "\treturn model\n",
    "# fix random seed for reproducibility\n",
    "seed = 7\n",
    "numpy.random.seed(seed)\n",
    "# load dataset\n",
    "dataset = numpy.loadtxt(\"pima-indians-diabetes.txt\", delimiter=\",\")\n",
    "# split into input (X) and output (Y) variables\n",
    "X = dataset[:,0:8]\n",
    "Y = dataset[:,8]\n",
    "# create model\n",
    "model = KerasClassifier(build_fn=create_model, epochs=100, batch_size=10, verbose=0)\n",
    "# define the grid search parameters\n",
    "init_mode = ['uniform', 'lecun_uniform', 'normal', 'zero', 'glorot_normal', 'glorot_uniform', 'he_normal', 'he_uniform']\n",
    "param_grid = dict(init_mode=init_mode)\n",
    "grid = GridSearchCV(estimator=model, param_grid=param_grid, n_jobs=-1, cv=3)\n",
    "grid_result = grid.fit(X, Y)\n",
    "# summarize results\n",
    "print(\"Best: %f using %s\" % (grid_result.best_score_, grid_result.best_params_))\n",
    "means = grid_result.cv_results_['mean_test_score']\n",
    "stds = grid_result.cv_results_['std_test_score']\n",
    "params = grid_result.cv_results_['params']\n",
    "for mean, stdev, param in zip(means, stds, params):\n",
    "    print(\"%f (%f) with: %r\" % (mean, stdev, param))"
   ]
  },
  {
   "cell_type": "markdown",
   "metadata": {},
   "source": [
    "## Neuron Activation Function"
   ]
  },
  {
   "cell_type": "code",
   "execution_count": 11,
   "metadata": {},
   "outputs": [
    {
     "name": "stdout",
     "output_type": "stream",
     "text": [
      "Best: 0.730469 using {'activation': 'softplus'}\n",
      "0.661458 (0.044804) with: {'activation': 'softmax'}\n",
      "0.730469 (0.013902) with: {'activation': 'softplus'}\n",
      "0.695312 (0.005524) with: {'activation': 'softsign'}\n",
      "0.720052 (0.015073) with: {'activation': 'relu'}\n",
      "0.677083 (0.015073) with: {'activation': 'tanh'}\n",
      "0.695312 (0.012758) with: {'activation': 'sigmoid'}\n",
      "0.690104 (0.015073) with: {'activation': 'hard_sigmoid'}\n",
      "0.717448 (0.036966) with: {'activation': 'linear'}\n"
     ]
    }
   ],
   "source": [
    "# Use scikit-learn to grid search the activation function\n",
    "import numpy\n",
    "from sklearn.model_selection import GridSearchCV\n",
    "from keras.models import Sequential\n",
    "from keras.layers import Dense\n",
    "from keras.wrappers.scikit_learn import KerasClassifier\n",
    "# Function to create model, required for KerasClassifier\n",
    "def create_model(activation='relu'):\n",
    "\t# create model\n",
    "\tmodel = Sequential()\n",
    "\tmodel.add(Dense(12, input_dim=8, kernel_initializer='uniform', activation=activation))\n",
    "\tmodel.add(Dense(1, kernel_initializer='uniform', activation='sigmoid'))\n",
    "\t# Compile model\n",
    "\tmodel.compile(loss='binary_crossentropy', optimizer='adam', metrics=['accuracy'])\n",
    "\treturn model\n",
    "# fix random seed for reproducibility\n",
    "seed = 7\n",
    "numpy.random.seed(seed)\n",
    "# load dataset\n",
    "dataset = numpy.loadtxt(\"pima-indians-diabetes.txt\", delimiter=\",\")\n",
    "# split into input (X) and output (Y) variables\n",
    "X = dataset[:,0:8]\n",
    "Y = dataset[:,8]\n",
    "# create model\n",
    "model = KerasClassifier(build_fn=create_model, epochs=100, batch_size=10, verbose=0)\n",
    "# define the grid search parameters\n",
    "activation = ['softmax', 'softplus', 'softsign', 'relu', 'tanh', 'sigmoid', 'hard_sigmoid', 'linear']\n",
    "param_grid = dict(activation=activation)\n",
    "grid = GridSearchCV(estimator=model, param_grid=param_grid, n_jobs=-1, cv=3)\n",
    "grid_result = grid.fit(X, Y)\n",
    "# summarize results\n",
    "print(\"Best: %f using %s\" % (grid_result.best_score_, grid_result.best_params_))\n",
    "means = grid_result.cv_results_['mean_test_score']\n",
    "stds = grid_result.cv_results_['std_test_score']\n",
    "params = grid_result.cv_results_['params']\n",
    "for mean, stdev, param in zip(means, stds, params):\n",
    "    print(\"%f (%f) with: %r\" % (mean, stdev, param))"
   ]
  },
  {
   "cell_type": "markdown",
   "metadata": {},
   "source": [
    "## Dropout Regularization"
   ]
  },
  {
   "cell_type": "code",
   "execution_count": 12,
   "metadata": {},
   "outputs": [
    {
     "name": "stdout",
     "output_type": "stream",
     "text": [
      "Best: 0.722656 using {'dropout_rate': 0.0, 'weight_constraint': 3}\n",
      "0.709635 (0.008027) with: {'dropout_rate': 0.0, 'weight_constraint': 1}\n",
      "0.714844 (0.029232) with: {'dropout_rate': 0.0, 'weight_constraint': 2}\n",
      "0.722656 (0.027805) with: {'dropout_rate': 0.0, 'weight_constraint': 3}\n",
      "0.705729 (0.009207) with: {'dropout_rate': 0.0, 'weight_constraint': 4}\n",
      "0.700521 (0.008027) with: {'dropout_rate': 0.0, 'weight_constraint': 5}\n",
      "0.709635 (0.010253) with: {'dropout_rate': 0.1, 'weight_constraint': 1}\n",
      "0.717448 (0.031466) with: {'dropout_rate': 0.1, 'weight_constraint': 2}\n",
      "0.712240 (0.038582) with: {'dropout_rate': 0.1, 'weight_constraint': 3}\n",
      "0.701823 (0.010253) with: {'dropout_rate': 0.1, 'weight_constraint': 4}\n",
      "0.696615 (0.004872) with: {'dropout_rate': 0.1, 'weight_constraint': 5}\n",
      "0.712240 (0.029463) with: {'dropout_rate': 0.2, 'weight_constraint': 1}\n",
      "0.710938 (0.008438) with: {'dropout_rate': 0.2, 'weight_constraint': 2}\n",
      "0.718750 (0.008438) with: {'dropout_rate': 0.2, 'weight_constraint': 3}\n",
      "0.705729 (0.010253) with: {'dropout_rate': 0.2, 'weight_constraint': 4}\n",
      "0.720052 (0.030145) with: {'dropout_rate': 0.2, 'weight_constraint': 5}\n",
      "0.716146 (0.021710) with: {'dropout_rate': 0.3, 'weight_constraint': 1}\n",
      "0.699219 (0.008438) with: {'dropout_rate': 0.3, 'weight_constraint': 2}\n",
      "0.720052 (0.013279) with: {'dropout_rate': 0.3, 'weight_constraint': 3}\n",
      "0.699219 (0.012758) with: {'dropout_rate': 0.3, 'weight_constraint': 4}\n",
      "0.720052 (0.018688) with: {'dropout_rate': 0.3, 'weight_constraint': 5}\n",
      "0.699219 (0.011049) with: {'dropout_rate': 0.4, 'weight_constraint': 1}\n",
      "0.700521 (0.011201) with: {'dropout_rate': 0.4, 'weight_constraint': 2}\n",
      "0.699219 (0.011500) with: {'dropout_rate': 0.4, 'weight_constraint': 3}\n",
      "0.709635 (0.006639) with: {'dropout_rate': 0.4, 'weight_constraint': 4}\n",
      "0.710937 (0.011500) with: {'dropout_rate': 0.4, 'weight_constraint': 5}\n",
      "0.705729 (0.007366) with: {'dropout_rate': 0.5, 'weight_constraint': 1}\n",
      "0.709635 (0.024360) with: {'dropout_rate': 0.5, 'weight_constraint': 2}\n",
      "0.717448 (0.029635) with: {'dropout_rate': 0.5, 'weight_constraint': 3}\n",
      "0.712240 (0.003683) with: {'dropout_rate': 0.5, 'weight_constraint': 4}\n",
      "0.705729 (0.012075) with: {'dropout_rate': 0.5, 'weight_constraint': 5}\n",
      "0.703125 (0.003189) with: {'dropout_rate': 0.6, 'weight_constraint': 1}\n",
      "0.704427 (0.012075) with: {'dropout_rate': 0.6, 'weight_constraint': 2}\n",
      "0.707031 (0.022999) with: {'dropout_rate': 0.6, 'weight_constraint': 3}\n",
      "0.710938 (0.005524) with: {'dropout_rate': 0.6, 'weight_constraint': 4}\n",
      "0.697917 (0.015733) with: {'dropout_rate': 0.6, 'weight_constraint': 5}\n",
      "0.701823 (0.008027) with: {'dropout_rate': 0.7, 'weight_constraint': 1}\n",
      "0.705729 (0.004872) with: {'dropout_rate': 0.7, 'weight_constraint': 2}\n",
      "0.707031 (0.005524) with: {'dropout_rate': 0.7, 'weight_constraint': 3}\n",
      "0.696615 (0.006639) with: {'dropout_rate': 0.7, 'weight_constraint': 4}\n",
      "0.705729 (0.013279) with: {'dropout_rate': 0.7, 'weight_constraint': 5}\n",
      "0.686198 (0.016367) with: {'dropout_rate': 0.8, 'weight_constraint': 1}\n",
      "0.700521 (0.021236) with: {'dropout_rate': 0.8, 'weight_constraint': 2}\n",
      "0.691406 (0.015947) with: {'dropout_rate': 0.8, 'weight_constraint': 3}\n",
      "0.691406 (0.006379) with: {'dropout_rate': 0.8, 'weight_constraint': 4}\n",
      "0.682292 (0.013279) with: {'dropout_rate': 0.8, 'weight_constraint': 5}\n",
      "0.670573 (0.010253) with: {'dropout_rate': 0.9, 'weight_constraint': 1}\n",
      "0.678385 (0.027866) with: {'dropout_rate': 0.9, 'weight_constraint': 2}\n",
      "0.673177 (0.025582) with: {'dropout_rate': 0.9, 'weight_constraint': 3}\n",
      "0.670573 (0.026748) with: {'dropout_rate': 0.9, 'weight_constraint': 4}\n",
      "0.674479 (0.019488) with: {'dropout_rate': 0.9, 'weight_constraint': 5}\n"
     ]
    }
   ],
   "source": [
    "# Use scikit-learn to grid search the dropout rate\n",
    "import numpy\n",
    "from sklearn.model_selection import GridSearchCV\n",
    "from keras.models import Sequential\n",
    "from keras.layers import Dense\n",
    "from keras.layers import Dropout\n",
    "from keras.wrappers.scikit_learn import KerasClassifier\n",
    "from keras.constraints import maxnorm\n",
    "# Function to create model, required for KerasClassifier\n",
    "def create_model(dropout_rate=0.0, weight_constraint=0):\n",
    "\t# create model\n",
    "\tmodel = Sequential()\n",
    "\tmodel.add(Dense(12, input_dim=8, kernel_initializer='uniform', activation='linear', kernel_constraint=maxnorm(weight_constraint)))\n",
    "\tmodel.add(Dropout(dropout_rate))\n",
    "\tmodel.add(Dense(1, kernel_initializer='uniform', activation='sigmoid'))\n",
    "\t# Compile model\n",
    "\tmodel.compile(loss='binary_crossentropy', optimizer='adam', metrics=['accuracy'])\n",
    "\treturn model\n",
    "# fix random seed for reproducibility\n",
    "seed = 7\n",
    "numpy.random.seed(seed)\n",
    "# load dataset\n",
    "dataset = numpy.loadtxt(\"pima-indians-diabetes.txt\", delimiter=\",\")\n",
    "# split into input (X) and output (Y) variables\n",
    "X = dataset[:,0:8]\n",
    "Y = dataset[:,8]\n",
    "# create model\n",
    "model = KerasClassifier(build_fn=create_model, epochs=100, batch_size=10, verbose=0)\n",
    "# define the grid search parameters\n",
    "weight_constraint = [1, 2, 3, 4, 5]\n",
    "dropout_rate = [0.0, 0.1, 0.2, 0.3, 0.4, 0.5, 0.6, 0.7, 0.8, 0.9]\n",
    "param_grid = dict(dropout_rate=dropout_rate, weight_constraint=weight_constraint)\n",
    "grid = GridSearchCV(estimator=model, param_grid=param_grid, n_jobs=-1, cv=3)\n",
    "grid_result = grid.fit(X, Y)\n",
    "# summarize results\n",
    "print(\"Best: %f using %s\" % (grid_result.best_score_, grid_result.best_params_))\n",
    "means = grid_result.cv_results_['mean_test_score']\n",
    "stds = grid_result.cv_results_['std_test_score']\n",
    "params = grid_result.cv_results_['params']\n",
    "for mean, stdev, param in zip(means, stds, params):\n",
    "    print(\"%f (%f) with: %r\" % (mean, stdev, param))"
   ]
  },
  {
   "cell_type": "markdown",
   "metadata": {},
   "source": [
    "## Number of Neurons in the Hidden Layer"
   ]
  },
  {
   "cell_type": "code",
   "execution_count": 13,
   "metadata": {},
   "outputs": [
    {
     "name": "stdout",
     "output_type": "stream",
     "text": [
      "WARNING:tensorflow:From C:\\Users\\Kyrie\\Anaconda3\\lib\\site-packages\\keras\\backend\\tensorflow_backend.py:3733: calling dropout (from tensorflow.python.ops.nn_ops) with keep_prob is deprecated and will be removed in a future version.\n",
      "Instructions for updating:\n",
      "Please use `rate` instead of `keep_prob`. Rate should be set to `rate = 1 - keep_prob`.\n",
      "Best: 0.725260 using {'neurons': 25}\n",
      "0.692708 (0.023073) with: {'neurons': 1}\n",
      "0.709635 (0.001841) with: {'neurons': 5}\n",
      "0.694010 (0.008027) with: {'neurons': 10}\n",
      "0.700521 (0.008027) with: {'neurons': 15}\n",
      "0.721354 (0.006639) with: {'neurons': 20}\n",
      "0.725260 (0.020505) with: {'neurons': 25}\n",
      "0.709635 (0.028940) with: {'neurons': 30}\n"
     ]
    }
   ],
   "source": [
    "# Use scikit-learn to grid search the number of neurons\n",
    "import numpy\n",
    "from sklearn.model_selection import GridSearchCV\n",
    "from keras.models import Sequential\n",
    "from keras.layers import Dense\n",
    "from keras.layers import Dropout\n",
    "from keras.wrappers.scikit_learn import KerasClassifier\n",
    "from keras.constraints import maxnorm\n",
    "# Function to create model, required for KerasClassifier\n",
    "def create_model(neurons=1):\n",
    "\t# create model\n",
    "\tmodel = Sequential()\n",
    "\tmodel.add(Dense(neurons, input_dim=8, kernel_initializer='uniform', activation='linear', kernel_constraint=maxnorm(4)))\n",
    "\tmodel.add(Dropout(0.2))\n",
    "\tmodel.add(Dense(1, kernel_initializer='uniform', activation='sigmoid'))\n",
    "\t# Compile model\n",
    "\tmodel.compile(loss='binary_crossentropy', optimizer='adam', metrics=['accuracy'])\n",
    "\treturn model\n",
    "# fix random seed for reproducibility\n",
    "seed = 7\n",
    "numpy.random.seed(seed)\n",
    "# load dataset\n",
    "dataset = numpy.loadtxt(\"pima-indians-diabetes.txt\", delimiter=\",\")\n",
    "# split into input (X) and output (Y) variables\n",
    "X = dataset[:,0:8]\n",
    "Y = dataset[:,8]\n",
    "# create model\n",
    "model = KerasClassifier(build_fn=create_model, epochs=100, batch_size=10, verbose=0)\n",
    "# define the grid search parameters\n",
    "neurons = [1, 5, 10, 15, 20, 25, 30]\n",
    "param_grid = dict(neurons=neurons)\n",
    "grid = GridSearchCV(estimator=model, param_grid=param_grid, n_jobs=-1, cv=3)\n",
    "grid_result = grid.fit(X, Y)\n",
    "# summarize results\n",
    "print(\"Best: %f using %s\" % (grid_result.best_score_, grid_result.best_params_))\n",
    "means = grid_result.cv_results_['mean_test_score']\n",
    "stds = grid_result.cv_results_['std_test_score']\n",
    "params = grid_result.cv_results_['params']\n",
    "for mean, stdev, param in zip(means, stds, params):\n",
    "    print(\"%f (%f) with: %r\" % (mean, stdev, param))"
   ]
  },
  {
   "cell_type": "code",
   "execution_count": null,
   "metadata": {},
   "outputs": [],
   "source": []
  },
  {
   "cell_type": "code",
   "execution_count": null,
   "metadata": {},
   "outputs": [],
   "source": []
  },
  {
   "cell_type": "code",
   "execution_count": null,
   "metadata": {},
   "outputs": [],
   "source": []
  }
 ],
 "metadata": {
  "kernelspec": {
   "display_name": "Python 3",
   "language": "python",
   "name": "python3"
  },
  "language_info": {
   "codemirror_mode": {
    "name": "ipython",
    "version": 3
   },
   "file_extension": ".py",
   "mimetype": "text/x-python",
   "name": "python",
   "nbconvert_exporter": "python",
   "pygments_lexer": "ipython3",
   "version": "3.7.1"
  }
 },
 "nbformat": 4,
 "nbformat_minor": 2
}
